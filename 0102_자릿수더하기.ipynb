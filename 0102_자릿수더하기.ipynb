{
  "nbformat": 4,
  "nbformat_minor": 0,
  "metadata": {
    "colab": {
      "provenance": [],
      "authorship_tag": "ABX9TyOeDaEU/BQK3ZHBwDDeWx0r",
      "include_colab_link": true
    },
    "kernelspec": {
      "name": "python3",
      "display_name": "Python 3"
    },
    "language_info": {
      "name": "python"
    }
  },
  "cells": [
    {
      "cell_type": "markdown",
      "metadata": {
        "id": "view-in-github",
        "colab_type": "text"
      },
      "source": [
        "<a href=\"https://colab.research.google.com/github/Daesun97/programers/blob/master/0102_%EC%9E%90%EB%A6%BF%EC%88%98%EB%8D%94%ED%95%98%EA%B8%B0.ipynb\" target=\"_parent\"><img src=\"https://colab.research.google.com/assets/colab-badge.svg\" alt=\"Open In Colab\"/></a>"
      ]
    },
    {
      "cell_type": "markdown",
      "source": [
        "Python3 LV0 자릿수 더하기"
      ],
      "metadata": {
        "id": "tmTjbBCRY3pD"
      }
    },
    {
      "cell_type": "code",
      "execution_count": 10,
      "metadata": {
        "id": "nW6CwLkIRrPs"
      },
      "outputs": [],
      "source": [
        "def solution(n):\n",
        "    answer = 0\n",
        "    for i in range(len(str(n))):\n",
        "        num = str(n)[i]\n",
        "        answer += int(num)\n",
        "    return answer"
      ]
    },
    {
      "cell_type": "markdown",
      "source": [
        "남이푼거"
      ],
      "metadata": {
        "id": "bJFkFZ9mY2Q-"
      }
    },
    {
      "cell_type": "code",
      "source": [
        "def solution(n):\n",
        "    return sum(list(map(int, str(n))))"
      ],
      "metadata": {
        "id": "sipbxv_hUwSI"
      },
      "execution_count": 12,
      "outputs": []
    }
  ]
}