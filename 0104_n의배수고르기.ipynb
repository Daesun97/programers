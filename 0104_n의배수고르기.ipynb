{
  "nbformat": 4,
  "nbformat_minor": 0,
  "metadata": {
    "colab": {
      "provenance": [],
      "authorship_tag": "ABX9TyOMTNB93WLgL/pGE1yhpy3H",
      "include_colab_link": true
    },
    "kernelspec": {
      "name": "python3",
      "display_name": "Python 3"
    },
    "language_info": {
      "name": "python"
    }
  },
  "cells": [
    {
      "cell_type": "markdown",
      "metadata": {
        "id": "view-in-github",
        "colab_type": "text"
      },
      "source": [
        "<a href=\"https://colab.research.google.com/github/Daesun97/programers/blob/master/0104_n%EC%9D%98%EB%B0%B0%EC%88%98%EA%B3%A0%EB%A5%B4%EA%B8%B0.ipynb\" target=\"_parent\"><img src=\"https://colab.research.google.com/assets/colab-badge.svg\" alt=\"Open In Colab\"/></a>"
      ]
    },
    {
      "cell_type": "code",
      "execution_count": 1,
      "metadata": {
        "id": "xvi_ETkz3R-U"
      },
      "outputs": [],
      "source": [
        "#내가 푼거\n",
        "def solution(n, numlist):\n",
        "    answer = []\n",
        "    for i in numlist:\n",
        "        if i % n ==0:\n",
        "            answer.append(i)\n",
        "    return answer "
      ]
    },
    {
      "cell_type": "code",
      "source": [
        "#근데 이렇게 푸는게 깔끔하고 뭔가 그 뭐냐 파이썬식이라 이렇게 짜고싶음\n",
        "def solution(n, numlist):\n",
        "    return list(filter(lambda v: v%n==0, numlist)) # 람다식"
      ],
      "metadata": {
        "id": "wUzqQ_8S3XP_"
      },
      "execution_count": 2,
      "outputs": []
    }
  ]
}