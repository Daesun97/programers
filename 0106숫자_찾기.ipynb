{
  "nbformat": 4,
  "nbformat_minor": 0,
  "metadata": {
    "colab": {
      "provenance": [],
      "authorship_tag": "ABX9TyNG8SL7kXLXd8Lnm/irE9xG",
      "include_colab_link": true
    },
    "kernelspec": {
      "name": "python3",
      "display_name": "Python 3"
    },
    "language_info": {
      "name": "python"
    }
  },
  "cells": [
    {
      "cell_type": "markdown",
      "metadata": {
        "id": "view-in-github",
        "colab_type": "text"
      },
      "source": [
        "<a href=\"https://colab.research.google.com/github/Daesun97/programers/blob/master/0106%EC%88%AB%EC%9E%90_%EC%B0%BE%EA%B8%B0.ipynb\" target=\"_parent\"><img src=\"https://colab.research.google.com/assets/colab-badge.svg\" alt=\"Open In Colab\"/></a>"
      ]
    },
    {
      "cell_type": "markdown",
      "source": [
        "Python LV0 숫자 찾기"
      ],
      "metadata": {
        "id": "UagA59FfM2eG"
      }
    },
    {
      "cell_type": "code",
      "execution_count": 5,
      "metadata": {
        "id": "xLN16UlRMxG3"
      },
      "outputs": [],
      "source": [
        "def solution(num, k):\n",
        "    answer = 0\n",
        "    if str(k) in str(num):\n",
        "        answer = str(num).index(str(k)) + 1\n",
        "\n",
        "    else:\n",
        "        answer = -1\n",
        "    return answer       \n",
        "            "
      ]
    }
  ]
}