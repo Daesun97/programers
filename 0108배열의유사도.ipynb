{
  "nbformat": 4,
  "nbformat_minor": 0,
  "metadata": {
    "colab": {
      "provenance": [],
      "authorship_tag": "ABX9TyNQZje4uxWSxCNm7RQ8ZAJI",
      "include_colab_link": true
    },
    "kernelspec": {
      "name": "python3",
      "display_name": "Python 3"
    },
    "language_info": {
      "name": "python"
    }
  },
  "cells": [
    {
      "cell_type": "markdown",
      "metadata": {
        "id": "view-in-github",
        "colab_type": "text"
      },
      "source": [
        "<a href=\"https://colab.research.google.com/github/Daesun97/programers/blob/master/0108%EB%B0%B0%EC%97%B4%EC%9D%98%EC%9C%A0%EC%82%AC%EB%8F%84.ipynb\" target=\"_parent\"><img src=\"https://colab.research.google.com/assets/colab-badge.svg\" alt=\"Open In Colab\"/></a>"
      ]
    },
    {
      "cell_type": "markdown",
      "source": [
        "Python Lv0 배열의 유사도"
      ],
      "metadata": {
        "id": "TpXIqZkIsXMa"
      }
    },
    {
      "cell_type": "code",
      "execution_count": 2,
      "metadata": {
        "id": "_UygPj1tp1Uw"
      },
      "outputs": [],
      "source": [
        "def solution(s1, s2):\n",
        "    answer = 0\n",
        "    for i in s1:\n",
        "        if i in s2:\n",
        "            answer+=1\n",
        "    return answer"
      ]
    },
    {
      "cell_type": "markdown",
      "source": [
        "지리는 코드"
      ],
      "metadata": {
        "id": "cxMEO_0Lsf3p"
      }
    },
    {
      "cell_type": "code",
      "source": [
        "def solution(s1, s2):\n",
        "    return len(set(s1)&set(s2));"
      ],
      "metadata": {
        "id": "8w9EzM_Lsb-A"
      },
      "execution_count": null,
      "outputs": []
    }
  ]
}