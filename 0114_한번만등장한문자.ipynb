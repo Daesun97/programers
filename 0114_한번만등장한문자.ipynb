{
  "nbformat": 4,
  "nbformat_minor": 0,
  "metadata": {
    "colab": {
      "provenance": [],
      "authorship_tag": "ABX9TyNw5TAB9LQ/kOJ8Zmbnh3r9",
      "include_colab_link": true
    },
    "kernelspec": {
      "name": "python3",
      "display_name": "Python 3"
    },
    "language_info": {
      "name": "python"
    }
  },
  "cells": [
    {
      "cell_type": "markdown",
      "metadata": {
        "id": "view-in-github",
        "colab_type": "text"
      },
      "source": [
        "<a href=\"https://colab.research.google.com/github/Daesun97/programers/blob/master/0114_%ED%95%9C%EB%B2%88%EB%A7%8C%EB%93%B1%EC%9E%A5%ED%95%9C%EB%AC%B8%EC%9E%90.ipynb\" target=\"_parent\"><img src=\"https://colab.research.google.com/assets/colab-badge.svg\" alt=\"Open In Colab\"/></a>"
      ]
    },
    {
      "cell_type": "code",
      "source": [
        "Python Lv0 한 번만 등장한 문자"
      ],
      "metadata": {
        "id": "sb_Ro0hgIHIi"
      },
      "execution_count": null,
      "outputs": []
    },
    {
      "cell_type": "code",
      "source": [
        "def solution(s):\n",
        "    \n",
        "    for ch in s:\n",
        "        if s.count(ch) ==1:\n",
        "            answer = \"\".join(sorted(ch))\n",
        "    return answer"
      ],
      "metadata": {
        "id": "rbIM9A1UIrY-"
      },
      "execution_count": 1,
      "outputs": []
    },
    {
      "cell_type": "code",
      "source": [
        "# 남이푼거 \n",
        "def solution(s):\n",
        "    answer = \"\".join(sorted([ ch for ch in s if s.count(ch) == 1]))\n",
        "    return answer"
      ],
      "metadata": {
        "id": "jGcbD9oeCelr"
      },
      "execution_count": null,
      "outputs": []
    },
    {
      "cell_type": "code",
      "source": [
        "solution(\"abcabcadc\")"
      ],
      "metadata": {
        "colab": {
          "base_uri": "https://localhost:8080/",
          "height": 35
        },
        "id": "PYk3Sz4eHD4T",
        "outputId": "a2bb6e0c-10b6-4303-eec2-9311f1a71094"
      },
      "execution_count": 2,
      "outputs": [
        {
          "output_type": "execute_result",
          "data": {
            "text/plain": [
              "'d'"
            ],
            "application/vnd.google.colaboratory.intrinsic+json": {
              "type": "string"
            }
          },
          "metadata": {},
          "execution_count": 2
        }
      ]
    }
  ]
}