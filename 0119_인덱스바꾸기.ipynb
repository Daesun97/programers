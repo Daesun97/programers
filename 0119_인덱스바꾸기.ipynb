{
  "nbformat": 4,
  "nbformat_minor": 0,
  "metadata": {
    "colab": {
      "provenance": [],
      "authorship_tag": "ABX9TyNeKzRYkxVwtg9EwAQai14F",
      "include_colab_link": true
    },
    "kernelspec": {
      "name": "python3",
      "display_name": "Python 3"
    },
    "language_info": {
      "name": "python"
    }
  },
  "cells": [
    {
      "cell_type": "markdown",
      "metadata": {
        "id": "view-in-github",
        "colab_type": "text"
      },
      "source": [
        "<a href=\"https://colab.research.google.com/github/Daesun97/programers/blob/master/0119_%EC%9D%B8%EB%8D%B1%EC%8A%A4%EB%B0%94%EA%BE%B8%EA%B8%B0.ipynb\" target=\"_parent\"><img src=\"https://colab.research.google.com/assets/colab-badge.svg\" alt=\"Open In Colab\"/></a>"
      ]
    },
    {
      "cell_type": "markdown",
      "source": [
        "Python Lv0 인덱스 바꾸기"
      ],
      "metadata": {
        "id": "AcYS7GiFD7HI"
      }
    },
    {
      "cell_type": "code",
      "execution_count": null,
      "metadata": {
        "id": "iFm7JlM02L1A"
      },
      "outputs": [],
      "source": [
        "def solution(my_string, num1, num2):\n",
        "    my_string = list(my_string)\n",
        "    str1= my_string[num1]\n",
        "    str2= my_string[num2]\n",
        "    my_string[num1] = str2\n",
        "    my_string[num2] = str1\n",
        "    return \"\".join(my_string)"
      ]
    },
    {
      "cell_type": "code",
      "source": [
        "def solution(my_string, num1, num2):\n",
        "    s = list(my_string)\n",
        "    s[num1],s[num2] = s[num2],s[num1]\n",
        "    return ''.join(s)"
      ],
      "metadata": {
        "id": "yKOYb6ZQD_OX"
      },
      "execution_count": null,
      "outputs": []
    }
  ]
}