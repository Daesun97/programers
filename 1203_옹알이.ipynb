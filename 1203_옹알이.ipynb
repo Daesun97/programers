{
  "nbformat": 4,
  "nbformat_minor": 0,
  "metadata": {
    "colab": {
      "provenance": []
    },
    "kernelspec": {
      "name": "python3",
      "display_name": "Python 3"
    },
    "language_info": {
      "name": "python"
    }
  },
  "cells": [
    {
      "cell_type": "markdown",
      "source": [
        "LV1 문자열 나누기"
      ],
      "metadata": {
        "id": "h2FLLoZ_LNEl"
      }
    },
    {
      "cell_type": "code",
      "execution_count": null,
      "metadata": {
        "id": "grzg8vIhv7mr"
      },
      "outputs": [],
      "source": [
        "def solution(s):\n",
        "    answer = 0\n",
        "    x=0\n",
        "    y=0\n",
        "    for i in s:\n",
        "        if x == y:\n",
        "            answer += 1\n",
        "            z=i\n",
        "\n",
        "        if i == z:\n",
        "            x+=1\n",
        "        else:\n",
        "            y+=1\n",
        "    return answer"
      ]
    },
    {
      "cell_type": "code",
      "source": [
        "solution(\"aaracadrrra\")"
      ],
      "metadata": {
        "colab": {
          "base_uri": "https://localhost:8080/"
        },
        "id": "nod75EW9InBl",
        "outputId": "ee46be6a-4cf9-40a6-ba16-53697b1aaa22"
      },
      "execution_count": null,
      "outputs": [
        {
          "output_type": "execute_result",
          "data": {
            "text/plain": [
              "2"
            ]
          },
          "metadata": {},
          "execution_count": 35
        }
      ]
    },
    {
      "cell_type": "markdown",
      "source": [
        "LV0 옹알이(1)"
      ],
      "metadata": {
        "id": "g10MmPx2w9AT"
      }
    },
    {
      "cell_type": "code",
      "source": [
        "from itertools import permutations # 리스트 안에 있는거 섞어 주는거\n",
        "def solution(babbling):\n",
        "    result = 0\n",
        "    babb = [\"aya\", \"ye\", \"woo\", \"ma\"]\n",
        "    speak = []\n",
        "    for i in range(1,5):  # len(babb) + 1 이기때뭌에 5\n",
        "        permut = permutations(babb,i)\n",
        "        for j in permut:\n",
        "            speak.append(''.join(j))\n",
        "    #print(speak)\n",
        "    for i in babbling:\n",
        "        if i in speak:\n",
        "            result +=1\n",
        "\n",
        "    return result"
      ],
      "metadata": {
        "id": "ehMQo4LVw8p7"
      },
      "execution_count": null,
      "outputs": []
    },
    {
      "cell_type": "code",
      "source": [
        "\n",
        "def solution(babbling):\n",
        "    return len(list(filter(lambda x: x.replace(\"aya\", \"\").replace(\"ye\", \"\").replace(\"woo\", \"\").replace(\"ma\", \"\") == \"\" and \"ayaaya\" not in x and \"yeye\" not in x and \"woowoo\" not in x and \"mama\" not in x, babbling)))\n"
      ],
      "metadata": {
        "id": "WEM4gM606ZNr"
      },
      "execution_count": null,
      "outputs": []
    },
    {
      "cell_type": "code",
      "source": [
        "solution([\"ayayewooma\", \"uuuma\", \"ye\", \"yemawoo\", \"ayaa\"])"
      ],
      "metadata": {
        "colab": {
          "base_uri": "https://localhost:8080/"
        },
        "id": "cebrjVH3w2hL",
        "outputId": "7ce556a3-b021-42a3-cd4e-aaee6c58f712"
      },
      "execution_count": null,
      "outputs": [
        {
          "output_type": "execute_result",
          "data": {
            "text/plain": [
              "3"
            ]
          },
          "metadata": {},
          "execution_count": 36
        }
      ]
    }
  ]
}