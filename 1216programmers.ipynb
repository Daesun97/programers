{
  "nbformat": 4,
  "nbformat_minor": 0,
  "metadata": {
    "colab": {
      "provenance": [],
      "authorship_tag": "ABX9TyMCJ+tlzfkzJNak7tDEAvJV"
    },
    "kernelspec": {
      "name": "python3",
      "display_name": "Python 3"
    },
    "language_info": {
      "name": "python"
    }
  },
  "cells": [
    {
      "cell_type": "markdown",
      "source": [
        "python3 LV0 연속된 수의 합"
      ],
      "metadata": {
        "id": "mDu4s-naf774"
      }
    },
    {
      "cell_type": "code",
      "execution_count": null,
      "metadata": {
        "id": "cUwawbKcf1hz"
      },
      "outputs": [],
      "source": [
        "def solution(num, total):\n",
        "    aver = total // num #문제에서 연속된 정수를 더해 total값을 맞추는 것이으로 평균 좌우로 찾으면 됨\n",
        "    answer = []\n",
        "    for i in range(aver - (num-1)//2, aver + (num + 2)//2): #num이 짝수든 홀수든 상관없게 앞뒤로 2로 나눈 값\n",
        "        answer.append(i)\n",
        "    return answer"
      ]
    }
  ]
}