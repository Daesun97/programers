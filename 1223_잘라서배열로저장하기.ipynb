{
  "nbformat": 4,
  "nbformat_minor": 0,
  "metadata": {
    "colab": {
      "provenance": [],
      "authorship_tag": "ABX9TyPhHPi6nCFDS3Nahg17lxkZ",
      "include_colab_link": true
    },
    "kernelspec": {
      "name": "python3",
      "display_name": "Python 3"
    },
    "language_info": {
      "name": "python"
    }
  },
  "cells": [
    {
      "cell_type": "markdown",
      "metadata": {
        "id": "view-in-github",
        "colab_type": "text"
      },
      "source": [
        "<a href=\"https://colab.research.google.com/github/Daesun97/programers/blob/master/1223_%EC%9E%98%EB%9D%BC%EC%84%9C%EB%B0%B0%EC%97%B4%EB%A1%9C%EC%A0%80%EC%9E%A5%ED%95%98%EA%B8%B0.ipynb\" target=\"_parent\"><img src=\"https://colab.research.google.com/assets/colab-badge.svg\" alt=\"Open In Colab\"/></a>"
      ]
    },
    {
      "cell_type": "markdown",
      "source": [
        "Python LV0 잘라서 배열로 저장하기"
      ],
      "metadata": {
        "id": "NVWT-fyrVP1I"
      }
    },
    {
      "cell_type": "code",
      "execution_count": null,
      "metadata": {
        "id": "W7icSMNkVJT7"
      },
      "outputs": [],
      "source": [
        "def solution(my_str, n):\n",
        "    answer = []\n",
        "    for i in range(0, len(my_str),n):\n",
        "        answer.append(my_str[i:i+n])\n",
        "        \n",
        "    return answer"
      ]
    }
  ]
}