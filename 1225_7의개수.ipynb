{
  "nbformat": 4,
  "nbformat_minor": 0,
  "metadata": {
    "colab": {
      "provenance": [],
      "authorship_tag": "ABX9TyPGwzFaxq8RujveskVmV2Bo",
      "include_colab_link": true
    },
    "kernelspec": {
      "name": "python3",
      "display_name": "Python 3"
    },
    "language_info": {
      "name": "python"
    }
  },
  "cells": [
    {
      "cell_type": "markdown",
      "metadata": {
        "id": "view-in-github",
        "colab_type": "text"
      },
      "source": [
        "<a href=\"https://colab.research.google.com/github/Daesun97/programers/blob/master/1225_7%EC%9D%98%EA%B0%9C%EC%88%98.ipynb\" target=\"_parent\"><img src=\"https://colab.research.google.com/assets/colab-badge.svg\" alt=\"Open In Colab\"/></a>"
      ]
    },
    {
      "cell_type": "code",
      "execution_count": 8,
      "metadata": {
        "colab": {
          "base_uri": "https://localhost:8080/"
        },
        "id": "SXF7wmKyrknK",
        "outputId": "84c95dc6-5e46-47af-b356-058fc37a4941"
      },
      "outputs": [
        {
          "output_type": "stream",
          "name": "stdout",
          "text": [
            "4\n"
          ]
        }
      ],
      "source": [
        "def solution(array):\n",
        "    answer = 0\n",
        "    for num in array:\n",
        "        num = str(num)\n",
        "        for j in range(len(num)):\n",
        "            if num[j] == '7':\n",
        "                answer += 1\n",
        "            \n",
        "            \n",
        "    return answer"
      ]
    },
    {
      "cell_type": "code",
      "source": [
        "def solution(array):\n",
        "    return str(array).count('7')"
      ],
      "metadata": {
        "colab": {
          "base_uri": "https://localhost:8080/"
        },
        "id": "nLgkINLjsRi6",
        "outputId": "6d275ed8-85c5-46a5-d07f-39837cb17c95"
      },
      "execution_count": 7,
      "outputs": [
        {
          "output_type": "stream",
          "name": "stdout",
          "text": [
            "7\n",
            "7\n",
            "7\n"
          ]
        }
      ]
    }
  ]
}