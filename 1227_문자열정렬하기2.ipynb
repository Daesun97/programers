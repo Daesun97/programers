{
  "nbformat": 4,
  "nbformat_minor": 0,
  "metadata": {
    "colab": {
      "provenance": [],
      "authorship_tag": "ABX9TyNJl9G0ZE/iRrURx14vl+WR",
      "include_colab_link": true
    },
    "kernelspec": {
      "name": "python3",
      "display_name": "Python 3"
    },
    "language_info": {
      "name": "python"
    }
  },
  "cells": [
    {
      "cell_type": "markdown",
      "metadata": {
        "id": "view-in-github",
        "colab_type": "text"
      },
      "source": [
        "<a href=\"https://colab.research.google.com/github/Daesun97/programers/blob/master/1227_%EB%AC%B8%EC%9E%90%EC%97%B4%EC%A0%95%EB%A0%AC%ED%95%98%EA%B8%B02.ipynb\" target=\"_parent\"><img src=\"https://colab.research.google.com/assets/colab-badge.svg\" alt=\"Open In Colab\"/></a>"
      ]
    },
    {
      "cell_type": "markdown",
      "source": [
        "Python3 Lv0 문저열 정렬하기 (2)\n"
      ],
      "metadata": {
        "id": "47M0aptL-0Rf"
      }
    },
    {
      "cell_type": "code",
      "execution_count": null,
      "metadata": {
        "id": "bliGBBPt-wvV"
      },
      "outputs": [],
      "source": [
        "def solution(my_string):\n",
        "    my_string = my_string.lower()\n",
        "    answer = \"\".join(sorted(my_string))\n",
        "\n",
        "    \n",
        "    \n",
        "    return answer"
      ]
    }
  ]
}