{
  "nbformat": 4,
  "nbformat_minor": 0,
  "metadata": {
    "colab": {
      "provenance": [],
      "authorship_tag": "ABX9TyPiOepKzIL9xR8zTOj6Isso",
      "include_colab_link": true
    },
    "kernelspec": {
      "name": "python3",
      "display_name": "Python 3"
    },
    "language_info": {
      "name": "python"
    }
  },
  "cells": [
    {
      "cell_type": "markdown",
      "metadata": {
        "id": "view-in-github",
        "colab_type": "text"
      },
      "source": [
        "<a href=\"https://colab.research.google.com/github/Daesun97/programers/blob/master/1228_%EC%84%B8%EA%B7%A0%EC%A6%9D%EC%8B%9D.ipynb\" target=\"_parent\"><img src=\"https://colab.research.google.com/assets/colab-badge.svg\" alt=\"Open In Colab\"/></a>"
      ]
    },
    {
      "cell_type": "markdown",
      "source": [
        "Python3 Lv0 세균 증식"
      ],
      "metadata": {
        "id": "vWwb-M4QmjaV"
      }
    },
    {
      "cell_type": "code",
      "execution_count": null,
      "metadata": {
        "id": "2peHN_y3mgJu"
      },
      "outputs": [],
      "source": [
        "def solution(n, t):\n",
        "    \n",
        "    return n*(2**t)"
      ]
    }
  ]
}