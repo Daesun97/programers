{
  "nbformat": 4,
  "nbformat_minor": 0,
  "metadata": {
    "colab": {
      "provenance": [],
      "authorship_tag": "ABX9TyPImzJHejqLlb8DHHRIPTj6",
      "include_colab_link": true
    },
    "kernelspec": {
      "name": "python3",
      "display_name": "Python 3"
    },
    "language_info": {
      "name": "python"
    }
  },
  "cells": [
    {
      "cell_type": "markdown",
      "metadata": {
        "id": "view-in-github",
        "colab_type": "text"
      },
      "source": [
        "<a href=\"https://colab.research.google.com/github/Daesun97/programers/blob/master/1228_%EC%A0%9C%EA%B3%B1%EC%88%98%ED%8C%90%EB%B3%84.ipynb\" target=\"_parent\"><img src=\"https://colab.research.google.com/assets/colab-badge.svg\" alt=\"Open In Colab\"/></a>"
      ]
    },
    {
      "cell_type": "markdown",
      "source": [
        "Python3 Lv0 제곱수 판별"
      ],
      "metadata": {
        "id": "mXMy8E2Q-ieB"
      }
    },
    {
      "cell_type": "code",
      "source": [
        "def solution(n):\n",
        "    if int(n ** 0.5) ** 2 == n:\n",
        "        return 1\n",
        "    else:\n",
        "        return 2\n"
      ],
      "metadata": {
        "id": "tWsBmur4-iJp"
      },
      "execution_count": null,
      "outputs": []
    },
    {
      "cell_type": "code",
      "execution_count": null,
      "metadata": {
        "id": "K1jw0SWM-e_6"
      },
      "outputs": [],
      "source": [
        "def solution(n):\n",
        "    import math\n",
        "    if int(math.sqrt(n))==math.sqrt(n): #제곱근을 구하는 sqrt\n",
        "        return 1\n",
        "    else:\n",
        "        return 2"
      ]
    }
  ]
}