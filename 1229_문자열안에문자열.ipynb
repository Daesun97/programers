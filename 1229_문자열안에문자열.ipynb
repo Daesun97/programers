{
  "nbformat": 4,
  "nbformat_minor": 0,
  "metadata": {
    "colab": {
      "provenance": [],
      "authorship_tag": "ABX9TyPryYbHtaKAND6s49GdYf7F",
      "include_colab_link": true
    },
    "kernelspec": {
      "name": "python3",
      "display_name": "Python 3"
    },
    "language_info": {
      "name": "python"
    }
  },
  "cells": [
    {
      "cell_type": "markdown",
      "metadata": {
        "id": "view-in-github",
        "colab_type": "text"
      },
      "source": [
        "<a href=\"https://colab.research.google.com/github/Daesun97/programers/blob/master/1229_%EB%AC%B8%EC%9E%90%EC%97%B4%EC%95%88%EC%97%90%EB%AC%B8%EC%9E%90%EC%97%B4.ipynb\" target=\"_parent\"><img src=\"https://colab.research.google.com/assets/colab-badge.svg\" alt=\"Open In Colab\"/></a>"
      ]
    },
    {
      "cell_type": "markdown",
      "source": [
        "Python3 Lv0 문자열안에 문자열"
      ],
      "metadata": {
        "id": "zEx_Vk4BTtLP"
      }
    },
    {
      "cell_type": "code",
      "execution_count": null,
      "metadata": {
        "id": "SdFfHU-rTpW7"
      },
      "outputs": [],
      "source": [
        "def solution(str1, str2):\n",
        "    if str2 in str1:\n",
        "        return 1\n",
        "    else:\n",
        "        return 2"
      ]
    }
  ]
}