{
  "nbformat": 4,
  "nbformat_minor": 0,
  "metadata": {
    "colab": {
      "provenance": [],
      "authorship_tag": "ABX9TyNg4oj1uK0J4BbCUkb1Z081",
      "include_colab_link": true
    },
    "kernelspec": {
      "name": "python3",
      "display_name": "Python 3"
    },
    "language_info": {
      "name": "python"
    }
  },
  "cells": [
    {
      "cell_type": "markdown",
      "metadata": {
        "id": "view-in-github",
        "colab_type": "text"
      },
      "source": [
        "<a href=\"https://colab.research.google.com/github/Daesun97/programers/blob/master/1230_ox%EB%AC%B8%EC%A0%9C.ipynb\" target=\"_parent\"><img src=\"https://colab.research.google.com/assets/colab-badge.svg\" alt=\"Open In Colab\"/></a>"
      ]
    },
    {
      "cell_type": "markdown",
      "source": [
        "python Lv0 OX문제"
      ],
      "metadata": {
        "id": "XacFbPORQXbP"
      }
    },
    {
      "cell_type": "code",
      "execution_count": 6,
      "metadata": {
        "id": "TtCGyBliCDqn"
      },
      "outputs": [],
      "source": [
        "def valid(quiz):\n",
        "    quiz = quiz.replace('=', '==') \n",
        "    return eval(quiz) # 문자열인 수식을 계산해줌 위에서 ==로 바꿔서 True, False로 나옴\n",
        "\n",
        "def solution(quiz):\n",
        "    return [\"O\" if valid(quiz) else \"X\" for quiz in quiz] #for문으로 리스트 풀어서 replace함수 가능하게 함 \n",
        "#근데 이거 느린가 왜 eval 실무에서 쓰지 말라하지"
      ]
    }
  ]
}