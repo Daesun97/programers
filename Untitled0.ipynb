{
  "nbformat": 4,
  "nbformat_minor": 0,
  "metadata": {
    "colab": {
      "provenance": [],
      "authorship_tag": "ABX9TyMsWwksL4H9uidy+nogjeid",
      "include_colab_link": true
    },
    "kernelspec": {
      "name": "python3",
      "display_name": "Python 3"
    },
    "language_info": {
      "name": "python"
    }
  },
  "cells": [
    {
      "cell_type": "markdown",
      "metadata": {
        "id": "view-in-github",
        "colab_type": "text"
      },
      "source": [
        "<a href=\"https://colab.research.google.com/github/Daesun97/programers/blob/master/Untitled0.ipynb\" target=\"_parent\"><img src=\"https://colab.research.google.com/assets/colab-badge.svg\" alt=\"Open In Colab\"/></a>"
      ]
    },
    {
      "cell_type": "markdown",
      "source": [
        "Python Lv0 약수 구하기\n"
      ],
      "metadata": {
        "id": "_vdTJtz4PUxy"
      }
    },
    {
      "cell_type": "code",
      "execution_count": null,
      "metadata": {
        "id": "YDcFrEJtOnuh"
      },
      "outputs": [],
      "source": [
        "def solution(n):\n",
        "    answer = []\n",
        "    for i in range(1,n+1):\n",
        "        if n % i == 0:\n",
        "            answer.append(i)\n",
        "    return answer"
      ]
    }
  ]
}