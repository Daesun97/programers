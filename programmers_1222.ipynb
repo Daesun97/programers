{
  "nbformat": 4,
  "nbformat_minor": 0,
  "metadata": {
    "colab": {
      "provenance": [],
      "authorship_tag": "ABX9TyPI67eWysi6UNaf9H/LSl2h",
      "include_colab_link": true
    },
    "kernelspec": {
      "name": "python3",
      "display_name": "Python 3"
    },
    "language_info": {
      "name": "python"
    }
  },
  "cells": [
    {
      "cell_type": "markdown",
      "metadata": {
        "id": "view-in-github",
        "colab_type": "text"
      },
      "source": [
        "<a href=\"https://colab.research.google.com/github/Daesun97/programers/blob/master/programmers_1222.ipynb\" target=\"_parent\"><img src=\"https://colab.research.google.com/assets/colab-badge.svg\" alt=\"Open In Colab\"/></a>"
      ]
    },
    {
      "cell_type": "markdown",
      "source": [
        "Python Lv0"
      ],
      "metadata": {
        "id": "Dhg78k0_SDWh"
      }
    },
    {
      "cell_type": "code",
      "execution_count": null,
      "metadata": {
        "id": "U5oChiqfR_TM"
      },
      "outputs": [],
      "source": [
        "def solution(A, B):\n",
        "    answer = 0\n",
        "    text = list(A) #리스트 업하기\n",
        "    for i in range(len(A)):\n",
        "        if \"\".join(text) == B:\n",
        "            return answer #이건 걍 같을경우 \n",
        "        else:\n",
        "            text.insert(0, text.pop()) # a랑 b가 다르면 맨뒤에거를 없에고 앞으로 삽입 \n",
        "            answer += 1\n",
        "# 위에꺼 전부다 안되면 -1          \n",
        "    return -1 "
      ]
    }
  ]
}