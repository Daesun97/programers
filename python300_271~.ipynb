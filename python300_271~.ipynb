{
  "nbformat": 4,
  "nbformat_minor": 0,
  "metadata": {
    "colab": {
      "provenance": [],
      "authorship_tag": "ABX9TyOdf4mZ1S1KQLzSX3nufC3R",
      "include_colab_link": true
    },
    "kernelspec": {
      "name": "python3",
      "display_name": "Python 3"
    },
    "language_info": {
      "name": "python"
    }
  },
  "cells": [
    {
      "cell_type": "markdown",
      "metadata": {
        "id": "view-in-github",
        "colab_type": "text"
      },
      "source": [
        "<a href=\"https://colab.research.google.com/github/Daesun97/programers/blob/master/python300_271~.ipynb\" target=\"_parent\"><img src=\"https://colab.research.google.com/assets/colab-badge.svg\" alt=\"Open In Colab\"/></a>"
      ]
    },
    {
      "cell_type": "code",
      "execution_count": 61,
      "metadata": {
        "id": "ZY16_tmpsCI8"
      },
      "outputs": [],
      "source": [
        "import random\n",
        "\n",
        "class Account:\n",
        "\n",
        "    account_count = 0 # init가 돌아가는 수를 새고 싶어서 init밖에 둠\n",
        "\n",
        "    def __init__(self,name,money):\n",
        "        self.deposit_count = 0  #입금횟수\n",
        "        self.deposit_log = [] # 입금로그\n",
        "        self.withdraw_log = [] #출금로그\n",
        "        \n",
        "        self.name = name\n",
        "        self.money = money\n",
        "        self.bank = '농협'\n",
        "        \n",
        "        num1 = random.randint(0, 999)\n",
        "        num2 = random.randint(0, 99)\n",
        "        num3 = random.randint(0, 999999)\n",
        "\n",
        "        num1 = str(num1).zfill(3)      # .zfill = 숫자앞에 0붙여줌 1 -> '1' -> '001'\n",
        "        num2 = str(num2).zfill(2)      \n",
        "        num3 = str(num3).zfill(6)    \n",
        "        self.account_number = num1 + '-' + num2 + '-' + num3 #위에서 변수로 안넣고 걍 self박고 해도됨\n",
        "\n",
        "        Account.account_count += 1 # 클래스 변수라 클래스 명\n",
        "\n",
        "        \n",
        "\n",
        "\n",
        "     \n",
        "    def get_account_num(self):\n",
        "        print(self.account_number)\n",
        "\n",
        "\n",
        "\n",
        "    def deposit(self, amount): #입금\n",
        "        if amount >= 1:\n",
        "            self.deposit_log.append(amount)\n",
        "            self.money += amount\n",
        "\n",
        "            self.deposit_count += 1 \n",
        "            if self.deposit_count % 5 ==0:\n",
        "                self.money = self.money * 1.01\n",
        "\n",
        "    \n",
        "    def withdraw(self, amount): #출금\n",
        "        if amount < self.money:\n",
        "            self.money -= amount\n",
        "            self.withdraw_log.append(amount)\n",
        "\n",
        "    def display_info(self):\n",
        "        print(f'은행이름: {self.bank}')\n",
        "        print(f'예금주: {self.name}')\n",
        "        print(f'계좌번호: {self.account_number}')\n",
        "        print(f'잔고: {self.money:,}') #세자리씩 쉼표 왜인지는 몰름\n",
        "\n",
        "    def withdraw_history(self):\n",
        "        for amount in self.withdraw_log:\n",
        "            print(amount)\n",
        "\n",
        "    def deposit_history(self):\n",
        "        for amount in self.deposit_log:\n",
        "            print(amount)\n",
        "\n",
        "\n",
        "\n",
        "\n"
      ]
    },
    {
      "cell_type": "code",
      "source": [
        "ruki = Account('RUKI', 500) \n",
        "print(ruki.name)\n",
        "print(ruki.money)\n",
        "print(ruki.bank)\n",
        "print(ruki.account_number)\n",
        "ruki.get_account_num()\n",
        "ruki.deposit(1000)\n",
        "print(ruki.money)\n",
        "ruki.withdraw(1000)\n",
        "print(ruki.money)"
      ],
      "metadata": {
        "colab": {
          "base_uri": "https://localhost:8080/"
        },
        "id": "6d3rbiEUu4Xb",
        "outputId": "9c065f0a-6aec-4544-8428-aa8ccee22859"
      },
      "execution_count": 33,
      "outputs": [
        {
          "output_type": "stream",
          "name": "stdout",
          "text": [
            "RUKI\n",
            "500\n",
            "농협\n",
            "870-39-760691\n",
            "870-39-760691\n",
            "1500\n",
            "500\n"
          ]
        }
      ]
    },
    {
      "cell_type": "code",
      "source": [
        "ruki = Account('RUKI', 1000000000) \n",
        "ruki.display_info()"
      ],
      "metadata": {
        "colab": {
          "base_uri": "https://localhost:8080/"
        },
        "id": "d044YZwUv96K",
        "outputId": "b1030f8b-9aed-4597-a523-bf1169ef1c2f"
      },
      "execution_count": 38,
      "outputs": [
        {
          "output_type": "stream",
          "name": "stdout",
          "text": [
            "은행이름: 농협\n",
            "예금주: RUKI\n",
            "계좌번호: 306-15-961695\n",
            "잔고: 1,000,000,000\n"
          ]
        }
      ]
    },
    {
      "cell_type": "code",
      "source": [
        "p = Account(\"RUKI\", 100)\n",
        "p.deposit(100)\n",
        "p.deposit(100)\n",
        "p.deposit(100)\n",
        "p.deposit(50)\n",
        "p.deposit(50)\n",
        "print(p.money)"
      ],
      "metadata": {
        "colab": {
          "base_uri": "https://localhost:8080/"
        },
        "id": "r1My3f8XWYE7",
        "outputId": "82484667-5c67-4202-a915-d632e183182c"
      },
      "execution_count": 51,
      "outputs": [
        {
          "output_type": "stream",
          "name": "stdout",
          "text": [
            "505.0\n"
          ]
        }
      ]
    },
    {
      "cell_type": "code",
      "source": [
        "costomers = []\n",
        "kIM = Account(\"KIM\", 50000000)\n",
        "LEE = Account(\"LEE\", 14564564650000)\n",
        "PARK = Account(\"PARK\", 1460)\n",
        "costomers.append(kIM)\n",
        "costomers.append(LEE)\n",
        "costomers.append(PARK)\n",
        "\n",
        "for c in costomers:\n",
        "    if c.money >= 1000000: # 백만이상 있는 계좌만 정보 보여줘\n",
        "        c.display_info()\n",
        "\n",
        "\n"
      ],
      "metadata": {
        "colab": {
          "base_uri": "https://localhost:8080/"
        },
        "id": "bcg3KlPLYoez",
        "outputId": "985bb852-1d30-45d5-ed99-ec79bf7fdbf5"
      },
      "execution_count": 56,
      "outputs": [
        {
          "output_type": "stream",
          "name": "stdout",
          "text": [
            "은행이름: 농협\n",
            "예금주: KIM\n",
            "계좌번호: 641-01-654454\n",
            "잔고: 50,000,000\n",
            "은행이름: 농협\n",
            "예금주: LEE\n",
            "계좌번호: 108-48-605522\n",
            "잔고: 14,564,564,650,000\n"
          ]
        }
      ]
    },
    {
      "cell_type": "code",
      "source": [
        "kIM = Account(\"KIM\", 50000000)\n",
        "kIM.deposit(100)\n",
        "kIM.deposit(200)\n",
        "kIM.deposit(300)\n",
        "kIM.deposit_history() \n",
        "\n",
        "kIM.withdraw(100)\n",
        "kIM.withdraw(200)\n",
        "kIM.withdraw_history()"
      ],
      "metadata": {
        "colab": {
          "base_uri": "https://localhost:8080/"
        },
        "id": "PE37JpiUZuoz",
        "outputId": "879d44b0-54c7-401c-c730-408a042ea046"
      },
      "execution_count": 63,
      "outputs": [
        {
          "output_type": "stream",
          "name": "stdout",
          "text": [
            "100\n",
            "200\n",
            "300\n",
            "100\n",
            "200\n"
          ]
        }
      ]
    },
    {
      "cell_type": "code",
      "source": [
        "KIM"
      ],
      "metadata": {
        "colab": {
          "base_uri": "https://localhost:8080/",
          "height": 172
        },
        "id": "yZr4CylNau17",
        "outputId": "5179bb15-e997-4bc4-bbae-095af6039aea"
      },
      "execution_count": 64,
      "outputs": [
        {
          "output_type": "error",
          "ename": "NameError",
          "evalue": "ignored",
          "traceback": [
            "\u001b[0;31m---------------------------------------------------------------------------\u001b[0m",
            "\u001b[0;31mNameError\u001b[0m                                 Traceback (most recent call last)",
            "\u001b[0;32m<ipython-input-64-85d85e1a661e>\u001b[0m in \u001b[0;36m<module>\u001b[0;34m\u001b[0m\n\u001b[0;32m----> 1\u001b[0;31m \u001b[0mKIM\u001b[0m\u001b[0;34m\u001b[0m\u001b[0;34m\u001b[0m\u001b[0m\n\u001b[0m",
            "\u001b[0;31mNameError\u001b[0m: name 'KIM' is not defined"
          ]
        }
      ]
    }
  ]
}