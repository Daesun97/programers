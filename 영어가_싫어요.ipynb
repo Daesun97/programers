{
  "nbformat": 4,
  "nbformat_minor": 0,
  "metadata": {
    "colab": {
      "provenance": [],
      "authorship_tag": "ABX9TyNCKH93h5LUcjhnT9idlg8L",
      "include_colab_link": true
    },
    "kernelspec": {
      "name": "python3",
      "display_name": "Python 3"
    },
    "language_info": {
      "name": "python"
    }
  },
  "cells": [
    {
      "cell_type": "markdown",
      "metadata": {
        "id": "view-in-github",
        "colab_type": "text"
      },
      "source": [
        "<a href=\"https://colab.research.google.com/github/Daesun97/programers/blob/master/%EC%98%81%EC%96%B4%EA%B0%80_%EC%8B%AB%EC%96%B4%EC%9A%94.ipynb\" target=\"_parent\"><img src=\"https://colab.research.google.com/assets/colab-badge.svg\" alt=\"Open In Colab\"/></a>"
      ]
    },
    {
      "cell_type": "code",
      "execution_count": 3,
      "metadata": {
        "id": "cZemA6iciVeW"
      },
      "outputs": [],
      "source": [
        "#enumerate 함수 사용\n",
        "def solution(numbers):\n",
        "    n = ['zero', \"one\", \"two\", \"three\", \"four\", \"five\", \"six\", \"seven\", \"eight\", \"nine\"]\n",
        "    for index,num in enumerate(n):\n",
        "        numbers = numbers.replace(num,str(index))\n",
        "    return int(numbers)\n",
        "\n",
        "#딕셔너리 사용\n",
        "def solution(numbers):\n",
        "    n = {'zero' : 0, \"one\":1, \"two\":2, \"three\":3, \"four\":4, \"five\":5, \"six\" : 6, \"seven\":7, \"eight\":8, \"nine\":9}\n",
        "    for i,j in n.items():\n",
        "        numbers = numbers.replace(i,str(j))\n",
        "    return int(numbers)"
      ]
    },
    {
      "cell_type": "code",
      "source": [
        "solution(\"onetwothreefourfivesixseveneightnine\")"
      ],
      "metadata": {
        "colab": {
          "base_uri": "https://localhost:8080/"
        },
        "id": "XfpBt669ibk8",
        "outputId": "75204037-f9d8-48be-ebd9-6bb711f1ccf0"
      },
      "execution_count": 4,
      "outputs": [
        {
          "output_type": "execute_result",
          "data": {
            "text/plain": [
              "123456789"
            ]
          },
          "metadata": {},
          "execution_count": 4
        }
      ]
    },
    {
      "cell_type": "code",
      "source": [],
      "metadata": {
        "id": "CF0n_NYNigUF"
      },
      "execution_count": null,
      "outputs": []
    }
  ]
}